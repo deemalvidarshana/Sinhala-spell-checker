{
  "nbformat": 4,
  "nbformat_minor": 0,
  "metadata": {
    "colab": {
      "private_outputs": true,
      "provenance": [],
      "include_colab_link": true
    },
    "kernelspec": {
      "name": "python3",
      "display_name": "Python 3"
    },
    "language_info": {
      "name": "python"
    }
  },
  "cells": [
    {
      "cell_type": "markdown",
      "metadata": {
        "id": "view-in-github",
        "colab_type": "text"
      },
      "source": [
        "<a href=\"https://colab.research.google.com/github/deemalvidarshana/Sinhala-spell-checker/blob/main/spellchecker%20website/Sinhala_Grammar_Check_using_ML_Model.ipynb\" target=\"_parent\"><img src=\"https://colab.research.google.com/assets/colab-badge.svg\" alt=\"Open In Colab\"/></a>"
      ]
    },
    {
      "cell_type": "code",
      "execution_count": null,
      "metadata": {
        "id": "8TOJARIh5tbk"
      },
      "outputs": [],
      "source": [
        "from google.colab import drive\n",
        "drive.mount('/content/drive')"
      ]
    },
    {
      "cell_type": "markdown",
      "source": [
        "**install the necessary libraries**"
      ],
      "metadata": {
        "id": "_NonzPXE6Do7"
      }
    },
    {
      "cell_type": "code",
      "source": [
        "import pandas as pd\n",
        "from sklearn.feature_extraction.text import CountVectorizer\n",
        "from sklearn.ensemble import RandomForestClassifier\n",
        "from sklearn.model_selection import train_test_split\n",
        "from sklearn.metrics import accuracy_score\n",
        "from nltk.tokenize import word_tokenize\n",
        "import nltk\n",
        "from sklearn.model_selection import GridSearchCV\n",
        "from sklearn.model_selection import cross_val_score\n",
        "from sklearn.metrics import confusion_matrix, classification_report\n",
        "\n",
        "nltk.download('punkt')\n",
        "nltk.download('punkt_tab')"
      ],
      "metadata": {
        "id": "LMsDlgFN59Sc"
      },
      "execution_count": null,
      "outputs": []
    },
    {
      "cell_type": "markdown",
      "source": [
        "**Step 1: Load and preprocess data**"
      ],
      "metadata": {
        "id": "tcUiQFtb6g2G"
      }
    },
    {
      "cell_type": "code",
      "source": [
        "file_path = '/content/drive/MyDrive/AI/grammar10.txt'\n",
        "with open(file_path, 'r', encoding='utf-16') as file:\n",
        "    data = [line.strip().split(\" \", 1) for line in file.readlines()]\n",
        "\n",
        "data_frame = pd.DataFrame(data, columns=[\"category\", \"text\"])\n",
        "data_frame[\"category\"] = data_frame[\"category\"].astype(int)\n",
        "data_frame['text'] = data_frame['text'].fillna('')\n",
        "\n",
        "text_data = data_frame['text']\n",
        "labels = data_frame['category']"
      ],
      "metadata": {
        "id": "3s9lhlTh6gLu"
      },
      "execution_count": null,
      "outputs": []
    },
    {
      "cell_type": "markdown",
      "source": [
        "**Step 2: Split data**"
      ],
      "metadata": {
        "id": "gny0cnU46ySz"
      }
    },
    {
      "cell_type": "code",
      "source": [
        "X_train_data, X_test_data, y_train_labels, y_test_labels = train_test_split(text_data, labels, test_size=0.2, random_state=42)"
      ],
      "metadata": {
        "id": "v1VmX9AS6pbJ"
      },
      "execution_count": null,
      "outputs": []
    },
    {
      "cell_type": "markdown",
      "source": [
        "**Step 3: Vectorization**"
      ],
      "metadata": {
        "id": "xin5zzzV68Xe"
      }
    },
    {
      "cell_type": "code",
      "source": [
        "vectorizer_instance = CountVectorizer(tokenizer=word_tokenize, token_pattern=None)\n",
        "X_train_vec = vectorizer_instance.fit_transform(X_train_data)\n",
        "X_test_vec = vectorizer_instance.transform(X_test_data)"
      ],
      "metadata": {
        "id": "zi4pjYXj7Cqx"
      },
      "execution_count": null,
      "outputs": []
    },
    {
      "cell_type": "markdown",
      "source": [
        "**Step 4: Train the model**"
      ],
      "metadata": {
        "id": "bRFv53It7Gnf"
      }
    },
    {
      "cell_type": "code",
      "source": [
        "classifier_model = RandomForestClassifier(n_estimators=100, random_state=42)\n",
        "classifier_model.fit(X_train_vec, y_train_labels)"
      ],
      "metadata": {
        "id": "tIz4ztDl7GPA"
      },
      "execution_count": null,
      "outputs": []
    },
    {
      "cell_type": "markdown",
      "source": [
        "**Step 5: Evaluate model accuracy**"
      ],
      "metadata": {
        "id": "STs70dLh7WbX"
      }
    },
    {
      "cell_type": "code",
      "source": [
        "predictions = classifier_model.predict(X_test_vec)\n",
        "model_accuracy = accuracy_score(y_test_labels, predictions)\n",
        "print(f\"Accuracy: {model_accuracy:.2f}\")"
      ],
      "metadata": {
        "id": "dfOXeHNy7buI"
      },
      "execution_count": null,
      "outputs": []
    },
    {
      "cell_type": "markdown",
      "source": [
        "**Step 6: Define improved grammar check function**"
      ],
      "metadata": {
        "id": "KXtva3gu7e9f"
      }
    },
    {
      "cell_type": "code",
      "source": [
        "def grammar_check(input_text, vectorizer, model, dataframe):\n",
        "    \"\"\"\n",
        "    Check the grammar of a given input text and return the corrected text.\n",
        "    \"\"\"\n",
        "    sentences = nltk.sent_tokenize(input_text)\n",
        "    corrected_sentences = []\n",
        "    all_correct = True\n",
        "\n",
        "    for sentence in sentences:\n",
        "        vectorized_text = vectorizer.transform([sentence])\n",
        "        result = model.predict(vectorized_text)[0]\n",
        "\n",
        "        if result == 1:\n",
        "            corrected_sentences.append(sentence)  # Keep the original sentence if correct\n",
        "        else:\n",
        "            all_correct = False\n",
        "            correct_texts = dataframe[dataframe['category'] == 1]['text']\n",
        "            best_match = None\n",
        "            highest_similarity = 0\n",
        "\n",
        "            for correct_text in correct_texts:\n",
        "                input_set = set(sentence.split())\n",
        "                correct_set = set(correct_text.split())\n",
        "                similarity_score = len(input_set.intersection(correct_set)) / len(input_set.union(correct_set)) if input_set.union(correct_set) else 0\n",
        "                if similarity_score > highest_similarity:\n",
        "                    highest_similarity = similarity_score\n",
        "                    best_match = correct_text\n",
        "\n",
        "            if best_match:\n",
        "                corrected_sentences.append(best_match)\n",
        "            else:\n",
        "                corrected_sentences.append(sentence)\n",
        "\n",
        "    corrected_text = \" \".join(corrected_sentences)\n",
        "    return corrected_text, all_correct"
      ],
      "metadata": {
        "id": "TWvSvT9c7ikA"
      },
      "execution_count": null,
      "outputs": []
    },
    {
      "cell_type": "markdown",
      "source": [
        "**Step 7: Cross-validation**"
      ],
      "metadata": {
        "id": "cGIMmwMl7zCu"
      }
    },
    {
      "cell_type": "code",
      "source": [
        "cross_val_scores = cross_val_score(classifier_model, X_train_vec, y_train_labels, cv=5, scoring='accuracy')\n",
        "print(f\"Cross-Validation Mean Accuracy: {cross_val_scores.mean():.2f}\")"
      ],
      "metadata": {
        "id": "koC1XWpy76BV"
      },
      "execution_count": null,
      "outputs": []
    },
    {
      "cell_type": "markdown",
      "source": [
        "**Step 8: Hyperparameter tuning**"
      ],
      "metadata": {
        "id": "SeA144WC7-cu"
      }
    },
    {
      "cell_type": "code",
      "source": [
        "param_grid_values = {\n",
        "    'n_estimators': [100, 200, 300],\n",
        "    'max_depth': [10, 20, None],\n",
        "    'min_samples_split': [2, 5, 10],\n",
        "    'min_samples_leaf': [1, 2, 4]\n",
        "}\n",
        "\n",
        "grid_search_model = GridSearchCV(RandomForestClassifier(random_state=42), param_grid_values, cv=3, n_jobs=-1, verbose=2)\n",
        "grid_search_model.fit(X_train_vec, y_train_labels)\n",
        "best_classifier_model = grid_search_model.best_estimator_"
      ],
      "metadata": {
        "id": "tSQcSKOl8C8j"
      },
      "execution_count": null,
      "outputs": []
    },
    {
      "cell_type": "markdown",
      "source": [
        "**Step 9: Confusion matrix and classification report**"
      ],
      "metadata": {
        "id": "wL-fw7Hu8GtZ"
      }
    },
    {
      "cell_type": "code",
      "source": [
        "conf_matrix = confusion_matrix(y_test_labels, predictions)\n",
        "print(conf_matrix)\n",
        "print(classification_report(y_test_labels, predictions))"
      ],
      "metadata": {
        "id": "m6qxg-GX8K-0"
      },
      "execution_count": null,
      "outputs": []
    },
    {
      "cell_type": "markdown",
      "source": [
        "**Step 10 : UI section**"
      ],
      "metadata": {
        "id": "4GVi58PV8UMN"
      }
    },
    {
      "cell_type": "code",
      "source": [
        "import ipywidgets as widgets\n",
        "from IPython.display import display, HTML\n",
        "import time\n",
        "import nltk\n",
        "\n",
        "nltk.download('punkt')\n",
        "\n",
        "def sinhala_spell_checker_with_popup():\n",
        "    # Add custom CSS for enhanced styling\n",
        "    display(HTML(\"\"\"\n",
        "        <style>\n",
        "            @keyframes fadeIn {\n",
        "                from { opacity: 0; transform: translateY(-20px); }\n",
        "                to { opacity: 1; transform: translateY(0); }\n",
        "            }\n",
        "\n",
        "            @keyframes shimmer {\n",
        "                0% { background-position: -1000px 0; }\n",
        "                100% { background-position: 1000px 0; }\n",
        "            }\n",
        "\n",
        "            @keyframes pulse {\n",
        "                0% { transform: scale(1); }\n",
        "                50% { transform: scale(1.05); }\n",
        "                100% { transform: scale(1); }\n",
        "            }\n",
        "\n",
        "            .gradient-border {\n",
        "                position: relative;\n",
        "                background: linear-gradient(60deg, #5C7CFA, #748FFC, #91A7FF, #748FFC, #5C7CFA);\n",
        "                background-size: 200% auto;\n",
        "                animation: gradient 3s linear infinite;\n",
        "            }\n",
        "\n",
        "            @keyframes gradient {\n",
        "                0% { background-position: 0% 50%; }\n",
        "                50% { background-position: 100% 50%; }\n",
        "                100% { background-position: 0% 50%; }\n",
        "            }\n",
        "        </style>\n",
        "    \"\"\"))\n",
        "\n",
        "    def check_spelling(change):\n",
        "        check_button.disabled = True\n",
        "        check_button.description = \"Checking...\"\n",
        "        loading_indicator.layout.display = 'flex'\n",
        "\n",
        "        time.sleep(0.8)  # Simulate processing for smooth animation\n",
        "\n",
        "        input_text = text_box.value.strip()\n",
        "        if not input_text:\n",
        "            show_error_popup(\"Please enter a sentence to check.\")\n",
        "            reset_button()\n",
        "            return\n",
        "\n",
        "        try:\n",
        "            sentences = nltk.sent_tokenize(input_text)\n",
        "            corrected_sentences = []\n",
        "            all_correct = True\n",
        "\n",
        "            for sentence in sentences:\n",
        "                vectorized_text = vectorizer_instance.transform([sentence])\n",
        "                result = classifier_model.predict(vectorized_text)[0]\n",
        "\n",
        "                if result == 1:\n",
        "                    corrected_sentences.append(sentence)\n",
        "                else:\n",
        "                    all_correct = False\n",
        "                    correct_texts = data_frame[data_frame['category'] == 1]['text']\n",
        "                    best_match = find_best_match(sentence, correct_texts)\n",
        "                    corrected_sentences.append(best_match if best_match else sentence)\n",
        "\n",
        "            show_result_popup(all_correct, \" \".join(corrected_sentences))\n",
        "\n",
        "        except Exception as e:\n",
        "            show_error_popup(f\"An error occurred: {str(e)}\")\n",
        "        finally:\n",
        "            reset_button()\n",
        "\n",
        "    def find_best_match(sentence, correct_texts):\n",
        "        highest_similarity = 0\n",
        "        best_match = None\n",
        "\n",
        "        for correct_text in correct_texts:\n",
        "            input_set = set(sentence.split())\n",
        "            correct_set = set(correct_text.split())\n",
        "            similarity = len(input_set.intersection(correct_set)) / len(input_set.union(correct_set)) if input_set.union(correct_set) else 0\n",
        "\n",
        "            if similarity > highest_similarity:\n",
        "                highest_similarity = similarity\n",
        "                best_match = correct_text\n",
        "\n",
        "        return best_match\n",
        "\n",
        "    def show_result_popup(is_correct, corrected_text=\"\"):\n",
        "        if is_correct:\n",
        "            popup_title.value = \"\"\"\n",
        "                <div style='text-align: center; animation: fadeIn 0.5s ease-out;'>\n",
        "                    <div style='color: #40C057; font-size: 24px; margin-bottom: 10px;'>✨ correct</div>\n",
        "                </div>\n",
        "            \"\"\"\n",
        "            popup_message.value = \"\"\"\n",
        "                <div style='text-align: center; animation: fadeIn 0.5s ease-out;'>\n",
        "                    <div style='font-size: 64px; margin: 20px 0; animation: pulse 2s infinite;'>🎯</div>\n",
        "                    <div style='font-size: 20px; color: #40C057; font-weight: bold;'>\n",
        "                        All sentences are spelled and grammatically correct!\n",
        "                    </div>\n",
        "                </div>\n",
        "            \"\"\"\n",
        "        else:\n",
        "            popup_title.value = \"\"\"\n",
        "                <div style='text-align: center; animation: fadeIn 0.5s ease-out;'>\n",
        "                    <div style='color: #FF6B6B; font-size: 24px; margin-bottom: 10px;'>❌ Incorrect</div>\n",
        "                </div>\n",
        "            \"\"\"\n",
        "            popup_message.value = f\"\"\"\n",
        "                <div style='text-align: center; animation: fadeIn 0.5s ease-out;'>\n",
        "                    <div style='font-size: 64px; margin: 20px 0;'>🔍</div>\n",
        "                    <div style='font-size: 20px; color: #FF6B6B; margin-bottom: 15px;'>\n",
        "                        Corrected Sentence:\n",
        "                    </div>\n",
        "                    <div style='\n",
        "                        margin: 20px;\n",
        "                        padding: 20px;\n",
        "                        background: linear-gradient(145deg, #f8f9fa, #e9ecef);\n",
        "                        border-radius: 15px;\n",
        "                        box-shadow: 0 4px 6px rgba(0, 0, 0, 0.1);\n",
        "                    '>\n",
        "                        <div style='\n",
        "                            color: #40C057;\n",
        "                            padding: 15px;\n",
        "                            background: white;\n",
        "                            border-radius: 10px;\n",
        "                            font-size: 18px;\n",
        "                        '>{corrected_text}</div>\n",
        "                    </div>\n",
        "                </div>\n",
        "            \"\"\"\n",
        "        show_popup()\n",
        "\n",
        "    def show_error_popup(message):\n",
        "        popup_title.value = \"\"\"\n",
        "            <div style='text-align: center; animation: fadeIn 0.5s ease-out;'>\n",
        "                <div style='color: #FF6B6B; font-size: 24px; margin-bottom: 10px;'>⚠️ දෝෂයක්</div>\n",
        "            </div>\n",
        "        \"\"\"\n",
        "        popup_message.value = f\"\"\"\n",
        "            <div style='text-align: center; animation: fadeIn 0.5s ease-out;'>\n",
        "                <div style='font-size: 18px; color: #FF6B6B; margin: 20px 0;'>{message}</div>\n",
        "            </div>\n",
        "        \"\"\"\n",
        "        show_popup()\n",
        "\n",
        "    def show_popup():\n",
        "        popup_box.layout.display = 'flex'\n",
        "        popup_box.layout.opacity = '0'\n",
        "        popup_box.layout.transition = 'all 0.3s ease-in'\n",
        "        popup_box.layout.opacity = '1'\n",
        "\n",
        "    def close_popup(change):\n",
        "        popup_box.layout.transition = 'all 0.3s ease-out'\n",
        "        popup_box.layout.opacity = '0'\n",
        "        time.sleep(0.3)\n",
        "        popup_box.layout.display = 'none'\n",
        "\n",
        "    def reset_button():\n",
        "        check_button.disabled = False\n",
        "        check_button.description = \"Check grammar \"\n",
        "        loading_indicator.layout.display = 'none'\n",
        "\n",
        "    # Enhanced loading indicator\n",
        "    loading_indicator = widgets.HTML(\n",
        "        value=\"\"\"\n",
        "        <div style='display: flex; justify-content: center; align-items: center; margin: 15px 0;'>\n",
        "            <div style='\n",
        "                width: 50px;\n",
        "                height: 50px;\n",
        "                border: 5px solid #f3f3f3;\n",
        "                border-top: 5px solid #5C7CFA;\n",
        "                border-radius: 50%;\n",
        "                animation: spin 1s linear infinite;\n",
        "                box-shadow: 0 4px 6px rgba(0, 0, 0, 0.1);\n",
        "            '></div>\n",
        "        </div>\n",
        "        <style>\n",
        "            @keyframes spin {\n",
        "                0% { transform: rotate(0deg); }\n",
        "                100% { transform: rotate(360deg); }\n",
        "            }\n",
        "        </style>\n",
        "        \"\"\",\n",
        "        layout=widgets.Layout(display='none')\n",
        "    )\n",
        "\n",
        "    # Enhanced text input\n",
        "    text_box = widgets.Textarea(\n",
        "        value=\"\",\n",
        "        placeholder=\"Type your sentence here...\",\n",
        "        layout=widgets.Layout(\n",
        "            width='100%',\n",
        "            height='150px',\n",
        "            padding=\"20px\",\n",
        "            margin=\"15px 0\",\n",
        "            border_radius=\"15px\",\n",
        "            font_size=\"16px\",\n",
        "            box_shadow=\"0 4px 6px rgba(0, 0, 0, 0.1)\"\n",
        "        )\n",
        "    )\n",
        "\n",
        "    # Enhanced check button\n",
        "    check_button = widgets.Button(\n",
        "        description=\"Check grammar and spelling\",\n",
        "        button_style=\"primary\",\n",
        "        icon=\"check-circle\",\n",
        "        layout=widgets.Layout(\n",
        "            width=\"200px\",\n",
        "            height=\"50px\",\n",
        "            margin=\"20px auto\",\n",
        "            align_items='center',\n",
        "            font_weight=\"bold\"\n",
        "\n",
        "        )\n",
        "    )\n",
        "\n",
        "    # Enhanced header\n",
        "    header = widgets.HTML(\"\"\"\n",
        "        <div style='text-align: center; padding: 30px 0; animation: fadeIn 1s ease-out;'>\n",
        "            <div style='\n",
        "                display: inline-block;\n",
        "                padding: 20px 40px;\n",
        "                background: linear-gradient(135deg, #5C7CFA, #748FFC);\n",
        "                border-radius: 20px;\n",
        "                box-shadow: 0 4px 6px rgba(0, 0, 0, 0.1);\n",
        "            '>\n",
        "                <h2 style='\n",
        "                    color: white;\n",
        "                    font-size: 32px;\n",
        "                    margin: 0;\n",
        "                    text-shadow: 2px 2px 4px rgba(0, 0, 0, 0.2);\n",
        "                '>Sinhala Grammar Checker</h2>\n",
        "            </div>\n",
        "        </div>\n",
        "    \"\"\")\n",
        "\n",
        "    # Enhanced popup components\n",
        "    popup_title = widgets.HTML(value=\"\")\n",
        "    popup_message = widgets.HTML(value=\"\")\n",
        "    close_button = widgets.Button(\n",
        "        description=\"Close\",\n",
        "        button_style=\"danger\",\n",
        "        icon=\"times\",\n",
        "        layout=widgets.Layout(\n",
        "            width=\"150px\",\n",
        "            height=\"40px\",\n",
        "            margin=\"20px 0 0 0\",\n",
        "            border_radius=\"20px\"\n",
        "        )\n",
        "    )\n",
        "    close_button.on_click(close_popup)\n",
        "\n",
        "    # Enhanced popup box\n",
        "    popup_box = widgets.VBox(\n",
        "        [popup_title, popup_message, close_button],\n",
        "        layout=widgets.Layout(\n",
        "            display='none',\n",
        "            position='fixed',\n",
        "            margin='0 auto',\n",
        "            transform='translate(-50%, -50%)',\n",
        "            padding='30px',\n",
        "            border='none',\n",
        "            border_radius='20px',\n",
        "            background_color='white',\n",
        "            box_shadow='0 10px 25px rgba(0, 0, 0, 0.2)',\n",
        "            width='800px',\n",
        "            align_items='center'\n",
        "        )\n",
        "    )\n",
        "\n",
        "    # Main container with enhanced layout\n",
        "    main_container = widgets.VBox(\n",
        "        [header, text_box, check_button, loading_indicator, popup_box],\n",
        "        layout=widgets.Layout(\n",
        "            padding='20px',\n",
        "            width='100%',\n",
        "            max_width='800px',\n",
        "            margin='0 auto',\n",
        "            background_color='#f8f9fa',\n",
        "            border_radius='25px',\n",
        "            box_shadow='0 8px 16px rgba(0, 0, 0, 0.1)'\n",
        "        )\n",
        "    )\n",
        "\n",
        "    check_button.on_click(check_spelling)\n",
        "    display(main_container)\n",
        "\n",
        "sinhala_spell_checker_with_popup()"
      ],
      "metadata": {
        "id": "j_-sBacP8azF"
      },
      "execution_count": null,
      "outputs": []
    }
  ]
}